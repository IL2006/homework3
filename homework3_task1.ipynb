{
 "cells": [
  {
   "cell_type": "code",
   "execution_count": 11,
   "id": "2c3a7272-1c3d-431c-888e-7a9cfa2494bf",
   "metadata": {},
   "outputs": [
    {
     "name": "stdin",
     "output_type": "stream",
     "text": [
      "Введите первое число:  3\n",
      "Введите второе число:  4\n"
     ]
    },
    {
     "name": "stdout",
     "output_type": "stream",
     "text": [
      "Сумма всех чисел: 7\n"
     ]
    }
   ],
   "source": [
    "from_1 = int(input(\"Введите первое число: \")) #Вводим число\n",
    "to = int(input(\"Введите второе число: \")) #Вводим число\n",
    "\n",
    "def sum_distance(from_1:int, to:int) ->int: #создаем функцию    \n",
    "    \n",
    "    sum = 0 #вводим вспомогательную переменную\n",
    "    if from_1 > to: # условие: если первое введенной число больше второго\n",
    "        for i in range(to, from_1): # меняем числа местами и в цикле считаем сумму всех элементов\n",
    "            sum += i\n",
    "        result= sum + from_1 #считаем итоговый результат\n",
    "        \n",
    "    else: # условие если второе введенное число больше первого\n",
    "        for i in range(from_1, to):  # в цикле считаем сумму всех элементов\n",
    "            sum += i            \n",
    "        result= sum + to #считаем итоговый результат\n",
    "    return result\n",
    "print(\"Сумма всех чисел:\", sum_distance(from_1, to)) # выводим результат"
   ]
  },
  {
   "cell_type": "code",
   "execution_count": null,
   "id": "cc688f0d-597d-4e58-a0f3-fbac11edab6c",
   "metadata": {},
   "outputs": [],
   "source": []
  }
 ],
 "metadata": {
  "kernelspec": {
   "display_name": "Python 3 (ipykernel)",
   "language": "python",
   "name": "python3"
  },
  "language_info": {
   "codemirror_mode": {
    "name": "ipython",
    "version": 3
   },
   "file_extension": ".py",
   "mimetype": "text/x-python",
   "name": "python",
   "nbconvert_exporter": "python",
   "pygments_lexer": "ipython3",
   "version": "3.12.7"
  }
 },
 "nbformat": 4,
 "nbformat_minor": 5
}
